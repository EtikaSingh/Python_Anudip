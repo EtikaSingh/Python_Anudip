{
  "nbformat": 4,
  "nbformat_minor": 0,
  "metadata": {
    "colab": {
      "provenance": [],
      "authorship_tag": "ABX9TyOvAUtqgwxWiOqafZfpIGvU",
      "include_colab_link": true
    },
    "kernelspec": {
      "name": "python3",
      "display_name": "Python 3"
    },
    "language_info": {
      "name": "python"
    }
  },
  "cells": [
    {
      "cell_type": "markdown",
      "metadata": {
        "id": "view-in-github",
        "colab_type": "text"
      },
      "source": [
        "<a href=\"https://colab.research.google.com/github/EtikaSingh/Python_Anudip/blob/main/%20data%20frame%20into%20groups%20based%20on%20Class%20and%20count%20the%20number%20of%20students%20in%20that%20particular%20class.ipynb\" target=\"_parent\"><img src=\"https://colab.research.google.com/assets/colab-badge.svg\" alt=\"Open In Colab\"/></a>"
      ]
    },
    {
      "cell_type": "code",
      "execution_count": 1,
      "metadata": {
        "id": "sJP9RDD6lUdC"
      },
      "outputs": [],
      "source": [
        "import pandas as pd\n",
        "import matplotlib.pyplot as plt"
      ]
    },
    {
      "cell_type": "code",
      "source": [
        "Student_data = pd.DataFrame({\n",
        "'School_code': ['s001','s002','s003','s001','s002','s004'],\n",
        "'Class': ['V', 'VI', 'VI', 'VI', 'V', 'VI'],\n",
        "'Name': ['Alberto Franco','Gino Mcneill','Ryan Parkes', 'Eesha Hinton', 'Gino Mcneill',\n",
        "'David Parkes'],\n",
        "'Age': [12, 12, 13, 13, 14, 12],\n",
        "'Height': [173, 192, 186, 167, 151, 159],\n",
        "'Weight': [35, 32, 33, 30, 31, 32],\n",
        "'Address': ['street1', 'street2', 'street3', 'street1', 'street2', 'street4']},\n",
        ")\n",
        "\n",
        "#convert student data into dataframe\n",
        "d_frame=pd.DataFrame(Student_data)\n",
        "print(\"Original DataFrame: \")\n",
        "print(d_frame)\n",
        "print()\n",
        "\n",
        "print(\"Class wise No. of students count: \")\n",
        "#count the no. of student in particular class\n",
        "print(d_frame[\"Class\"].value_counts().sort_values())\n",
        "print()\n",
        "\n",
        "#Create and display Bar Chart\n",
        "plt.bar(d_frame[\"Class\"].value_counts().sort_values().index,d_frame[\"Class\"].value_counts().sort_values())\n",
        "plt.title(\"Count the number of student of a class\")\n",
        "plt.xlabel(\"Class\")\n",
        "plt.ylabel(\"No. of Student\")\n",
        "plt.show()\n"
      ],
      "metadata": {
        "colab": {
          "base_uri": "https://localhost:8080/",
          "height": 715
        },
        "id": "Hkn0UjQ6l6Tt",
        "outputId": "823e56e8-5ea6-430d-9cc3-89259b574c45"
      },
      "execution_count": 2,
      "outputs": [
        {
          "output_type": "stream",
          "name": "stdout",
          "text": [
            "Original DataFrame: \n",
            "  School_code Class            Name  Age  Height  Weight  Address\n",
            "0        s001     V  Alberto Franco   12     173      35  street1\n",
            "1        s002    VI    Gino Mcneill   12     192      32  street2\n",
            "2        s003    VI     Ryan Parkes   13     186      33  street3\n",
            "3        s001    VI    Eesha Hinton   13     167      30  street1\n",
            "4        s002     V    Gino Mcneill   14     151      31  street2\n",
            "5        s004    VI    David Parkes   12     159      32  street4\n",
            "\n",
            "Class wise No. of students count: \n",
            "V     2\n",
            "VI    4\n",
            "Name: Class, dtype: int64\n",
            "\n"
          ]
        },
        {
          "output_type": "display_data",
          "data": {
            "text/plain": [
              "<Figure size 640x480 with 1 Axes>"
            ],
            "image/png": "[encoded data removed]"
          },
          "metadata": {}
        }
      ]
    },
    {
      "cell_type": "markdown",
      "source": [
        "As per the Bar Chart we have seen that no. of student in class V is less as compare to class VI."
      ],
      "metadata": {
        "id": "uo14Dk4Cs5MM"
      }
    },
    {
      "cell_type": "markdown",
      "source": [
        "So, we have to focus on that and solve the issue and increase the no. of students in class.\n"
      ],
      "metadata": {
        "id": "aVIuvIOGtbg0"
      }
    },
    {
      "cell_type": "markdown",
      "source": [],
      "metadata": {
        "id": "keq8ewGCuxdQ"
      }
    },
    {
      "cell_type": "code",
      "source": [],
      "metadata": {
        "id": "w-JEGD1tttMD"
      },
      "execution_count": null,
      "outputs": []
    }
  ]
}